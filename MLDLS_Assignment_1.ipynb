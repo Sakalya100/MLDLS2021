{
  "nbformat": 4,
  "nbformat_minor": 0,
  "metadata": {
    "colab": {
      "name": "MLDLS Assignment 1.ipynb",
      "provenance": [],
      "mount_file_id": "1v3ybg6Yy0TR7AcRGKc0TDWgaw6Xn-hNK",
      "authorship_tag": "ABX9TyOgfodlTGvRz+qCb7GYzhvZ",
      "include_colab_link": true
    },
    "kernelspec": {
      "name": "python3",
      "display_name": "Python 3"
    },
    "language_info": {
      "name": "python"
    }
  },
  "cells": [
    {
      "cell_type": "markdown",
      "metadata": {
        "id": "view-in-github",
        "colab_type": "text"
      },
      "source": [
        "<a href=\"https://colab.research.google.com/github/Sakalya100/MLDLS2021/blob/main/MLDLS_Assignment_1.ipynb\" target=\"_parent\"><img src=\"https://colab.research.google.com/assets/colab-badge.svg\" alt=\"Open In Colab\"/></a>"
      ]
    },
    {
      "cell_type": "markdown",
      "metadata": {
        "id": "SRTZR7hhYx0G"
      },
      "source": [
        "\n",
        "\n",
        "\n",
        "\n",
        "# Imported Libraries"
      ]
    },
    {
      "cell_type": "code",
      "metadata": {
        "id": "C1-ACS35SnVe"
      },
      "source": [
        "#import Libraries\n",
        "import numpy as np\n",
        "import pandas as pd\n",
        "import matplotlib.pyplot as plt"
      ],
      "execution_count": 1,
      "outputs": []
    },
    {
      "cell_type": "markdown",
      "metadata": {
        "id": "wA--zFn6ZDB3"
      },
      "source": [
        "#Importing Data set in the Colab Notebook"
      ]
    },
    {
      "cell_type": "code",
      "metadata": {
        "colab": {
          "base_uri": "https://localhost:8080/"
        },
        "id": "N-2HEdgbTpm1",
        "outputId": "9358bf44-a134-4c61-d482-f26efea207f8"
      },
      "source": [
        "#import Dataset\n",
        "dataset = pd.read_csv('/content/sample_data/Car_price.csv')\n",
        "print(dataset)"
      ],
      "execution_count": 7,
      "outputs": [
        {
          "output_type": "stream",
          "text": [
            "     enginesize    price\n",
            "0           130  13495.0\n",
            "1           130  16500.0\n",
            "2           152  16500.0\n",
            "3           109  13950.0\n",
            "4           136  17450.0\n",
            "..          ...      ...\n",
            "200         141  16845.0\n",
            "201         141  19045.0\n",
            "202         173  21485.0\n",
            "203         145  22470.0\n",
            "204         141  22625.0\n",
            "\n",
            "[205 rows x 2 columns]\n"
          ],
          "name": "stdout"
        }
      ]
    },
    {
      "cell_type": "markdown",
      "metadata": {
        "id": "bEJCjuhqZN_h"
      },
      "source": [
        "#Segregating Data in X and Y \n",
        "# X=engine size, Y=Car Price"
      ]
    },
    {
      "cell_type": "code",
      "metadata": {
        "colab": {
          "base_uri": "https://localhost:8080/"
        },
        "id": "KwJpBnm6UA3m",
        "outputId": "d2c3e45c-4127-4394-dffd-d47c36130c5f"
      },
      "source": [
        "X = dataset.iloc[:,:-1].values\n",
        "Y = dataset.iloc[:,-1].values\n",
        "\n",
        "print(X)\n",
        "print(Y)"
      ],
      "execution_count": 8,
      "outputs": [
        {
          "output_type": "stream",
          "text": [
            "[[130]\n",
            " [130]\n",
            " [152]\n",
            " [109]\n",
            " [136]\n",
            " [136]\n",
            " [136]\n",
            " [136]\n",
            " [131]\n",
            " [131]\n",
            " [108]\n",
            " [108]\n",
            " [164]\n",
            " [164]\n",
            " [164]\n",
            " [209]\n",
            " [209]\n",
            " [209]\n",
            " [ 61]\n",
            " [ 90]\n",
            " [ 90]\n",
            " [ 90]\n",
            " [ 90]\n",
            " [ 98]\n",
            " [ 90]\n",
            " [ 90]\n",
            " [ 90]\n",
            " [ 98]\n",
            " [122]\n",
            " [156]\n",
            " [ 92]\n",
            " [ 92]\n",
            " [ 79]\n",
            " [ 92]\n",
            " [ 92]\n",
            " [ 92]\n",
            " [ 92]\n",
            " [110]\n",
            " [110]\n",
            " [110]\n",
            " [110]\n",
            " [110]\n",
            " [110]\n",
            " [111]\n",
            " [ 90]\n",
            " [ 90]\n",
            " [119]\n",
            " [258]\n",
            " [258]\n",
            " [326]\n",
            " [ 91]\n",
            " [ 91]\n",
            " [ 91]\n",
            " [ 91]\n",
            " [ 91]\n",
            " [ 70]\n",
            " [ 70]\n",
            " [ 70]\n",
            " [ 80]\n",
            " [122]\n",
            " [122]\n",
            " [122]\n",
            " [122]\n",
            " [122]\n",
            " [122]\n",
            " [140]\n",
            " [134]\n",
            " [183]\n",
            " [183]\n",
            " [183]\n",
            " [183]\n",
            " [234]\n",
            " [234]\n",
            " [308]\n",
            " [304]\n",
            " [140]\n",
            " [ 92]\n",
            " [ 92]\n",
            " [ 92]\n",
            " [ 98]\n",
            " [110]\n",
            " [122]\n",
            " [156]\n",
            " [156]\n",
            " [156]\n",
            " [122]\n",
            " [122]\n",
            " [110]\n",
            " [110]\n",
            " [ 97]\n",
            " [103]\n",
            " [ 97]\n",
            " [ 97]\n",
            " [ 97]\n",
            " [ 97]\n",
            " [ 97]\n",
            " [ 97]\n",
            " [ 97]\n",
            " [ 97]\n",
            " [120]\n",
            " [120]\n",
            " [181]\n",
            " [181]\n",
            " [181]\n",
            " [181]\n",
            " [181]\n",
            " [181]\n",
            " [120]\n",
            " [152]\n",
            " [120]\n",
            " [152]\n",
            " [120]\n",
            " [152]\n",
            " [120]\n",
            " [152]\n",
            " [120]\n",
            " [152]\n",
            " [134]\n",
            " [ 90]\n",
            " [ 98]\n",
            " [ 90]\n",
            " [ 90]\n",
            " [ 98]\n",
            " [122]\n",
            " [156]\n",
            " [151]\n",
            " [194]\n",
            " [194]\n",
            " [194]\n",
            " [203]\n",
            " [132]\n",
            " [132]\n",
            " [121]\n",
            " [121]\n",
            " [121]\n",
            " [121]\n",
            " [121]\n",
            " [121]\n",
            " [ 97]\n",
            " [108]\n",
            " [108]\n",
            " [108]\n",
            " [108]\n",
            " [108]\n",
            " [108]\n",
            " [108]\n",
            " [108]\n",
            " [108]\n",
            " [108]\n",
            " [108]\n",
            " [ 92]\n",
            " [ 92]\n",
            " [ 92]\n",
            " [ 92]\n",
            " [ 92]\n",
            " [ 92]\n",
            " [ 98]\n",
            " [ 98]\n",
            " [110]\n",
            " [110]\n",
            " [ 98]\n",
            " [ 98]\n",
            " [ 98]\n",
            " [ 98]\n",
            " [ 98]\n",
            " [ 98]\n",
            " [ 98]\n",
            " [146]\n",
            " [146]\n",
            " [146]\n",
            " [146]\n",
            " [146]\n",
            " [146]\n",
            " [122]\n",
            " [110]\n",
            " [122]\n",
            " [122]\n",
            " [122]\n",
            " [171]\n",
            " [171]\n",
            " [171]\n",
            " [161]\n",
            " [ 97]\n",
            " [109]\n",
            " [ 97]\n",
            " [109]\n",
            " [109]\n",
            " [ 97]\n",
            " [109]\n",
            " [109]\n",
            " [109]\n",
            " [136]\n",
            " [ 97]\n",
            " [109]\n",
            " [141]\n",
            " [141]\n",
            " [141]\n",
            " [141]\n",
            " [130]\n",
            " [130]\n",
            " [141]\n",
            " [141]\n",
            " [173]\n",
            " [145]\n",
            " [141]]\n",
            "[13495.    16500.    16500.    13950.    17450.    15250.    17710.\n",
            " 18920.    23875.    17859.167 16430.    16925.    20970.    21105.\n",
            " 24565.    30760.    41315.    36880.     5151.     6295.     6575.\n",
            "  5572.     6377.     7957.     6229.     6692.     7609.     8558.\n",
            "  8921.    12964.     6479.     6855.     5399.     6529.     7129.\n",
            "  7295.     7295.     7895.     9095.     8845.    10295.    12945.\n",
            " 10345.     6785.     8916.5    8916.5   11048.    32250.    35550.\n",
            " 36000.     5195.     6095.     6795.     6695.     7395.    10945.\n",
            " 11845.    13645.    15645.     8845.     8495.    10595.    10245.\n",
            " 10795.    11245.    18280.    18344.    25552.    28248.    28176.\n",
            " 31600.    34184.    35056.    40960.    45400.    16503.     5389.\n",
            "  6189.     6669.     7689.     9959.     8499.    12629.    14869.\n",
            " 14489.     6989.     8189.     9279.     9279.     5499.     7099.\n",
            "  6649.     6849.     7349.     7299.     7799.     7499.     7999.\n",
            "  8249.     8949.     9549.    13499.    14399.    13499.    17199.\n",
            " 19699.    18399.    11900.    13200.    12440.    13860.    15580.\n",
            " 16900.    16695.    17075.    16630.    17950.    18150.     5572.\n",
            "  7957.     6229.     6692.     7609.     8921.    12764.    22018.\n",
            " 32528.    34028.    37028.    31400.5    9295.     9895.    11850.\n",
            " 12170.    15040.    15510.    18150.    18620.     5118.     7053.\n",
            "  7603.     7126.     7775.     9960.     9233.    11259.     7463.\n",
            " 10198.     8013.    11694.     5348.     6338.     6488.     6918.\n",
            "  7898.     8778.     6938.     7198.     7898.     7788.     7738.\n",
            "  8358.     9258.     8058.     8238.     9298.     9538.     8449.\n",
            "  9639.     9989.    11199.    11549.    17669.     8948.    10698.\n",
            "  9988.    10898.    11248.    16558.    15998.    15690.    15750.\n",
            "  7775.     7975.     7995.     8195.     8495.     9495.     9995.\n",
            " 11595.     9980.    13295.    13845.    12290.    12940.    13415.\n",
            " 15985.    16515.    18420.    18950.    16845.    19045.    21485.\n",
            " 22470.    22625.   ]\n"
          ],
          "name": "stdout"
        }
      ]
    },
    {
      "cell_type": "markdown",
      "metadata": {
        "id": "-1u_QxcMZuZc"
      },
      "source": [
        "#Visualizing the data"
      ]
    },
    {
      "cell_type": "code",
      "metadata": {
        "colab": {
          "base_uri": "https://localhost:8080/",
          "height": 313
        },
        "id": "LBHDeOIdWHHW",
        "outputId": "2152e1a6-eace-4a4a-ea99-636ed128faff"
      },
      "source": [
        "plt.xlabel('Engine Size')\n",
        "plt.ylabel('Price')\n",
        "plt.title('Engine Size vs. Price')\n",
        "plt.scatter(X,Y,color='green',marker=\"*\")"
      ],
      "execution_count": 28,
      "outputs": [
        {
          "output_type": "execute_result",
          "data": {
            "text/plain": [
              "<matplotlib.collections.PathCollection at 0x7f3e33b5c050>"
            ]
          },
          "metadata": {
            "tags": []
          },
          "execution_count": 28
        },
        {
          "output_type": "display_data",
          "data": {
            "image/png": "[encoded data removed]",
            "text/plain": [
              "<Figure size 432x288 with 1 Axes>"
            ]
          },
          "metadata": {
            "tags": [],
            "needs_background": "light"
          }
        }
      ]
    },
    {
      "cell_type": "markdown",
      "metadata": {
        "id": "YyglYqwFZzTv"
      },
      "source": [
        "#Spliting Data into train set and test set"
      ]
    },
    {
      "cell_type": "code",
      "metadata": {
        "colab": {
          "base_uri": "https://localhost:8080/"
        },
        "id": "VlhR6Rc7WO8v",
        "outputId": "a6f2ad94-d29a-42f5-95f8-9c2edee032ea"
      },
      "source": [
        "#Split the data\n",
        "from sklearn.model_selection import train_test_split\n",
        "X_train, X_test, Y_train, Y_test = train_test_split(X,Y, test_size=0.4)\n",
        "print(X_train.shape, X_test.shape)"
      ],
      "execution_count": 10,
      "outputs": [
        {
          "output_type": "stream",
          "text": [
            "(123, 1) (82, 1)\n"
          ],
          "name": "stdout"
        }
      ]
    },
    {
      "cell_type": "markdown",
      "metadata": {
        "id": "Rfg4fAjVZ9Pb"
      },
      "source": [
        "#Fitting the trained data in Simple Linear Regression"
      ]
    },
    {
      "cell_type": "code",
      "metadata": {
        "colab": {
          "base_uri": "https://localhost:8080/"
        },
        "id": "Uxf3eNbIWXEr",
        "outputId": "2867ef76-7521-41df-b927-7dbd21b5537c"
      },
      "source": [
        "#Fitting Simple Linear Regression\n",
        "from sklearn.linear_model import LinearRegression\n",
        "model = LinearRegression()\n",
        "model.fit(X_train, Y_train)\n"
      ],
      "execution_count": 11,
      "outputs": [
        {
          "output_type": "execute_result",
          "data": {
            "text/plain": [
              "LinearRegression(copy_X=True, fit_intercept=True, n_jobs=None, normalize=False)"
            ]
          },
          "metadata": {
            "tags": []
          },
          "execution_count": 11
        }
      ]
    },
    {
      "cell_type": "markdown",
      "metadata": {
        "id": "Fw_8DXqQaGGO"
      },
      "source": [
        "#Predicting results of the Test Set"
      ]
    },
    {
      "cell_type": "code",
      "metadata": {
        "colab": {
          "base_uri": "https://localhost:8080/"
        },
        "id": "PcCj9mSvWbs2",
        "outputId": "4440e4fd-365e-489f-ee6f-4141f8863ad8"
      },
      "source": [
        "#Predicting the test results\n",
        "Y_pred = model.predict(X_test)\n",
        "print(Y_pred)\n",
        "print(Y_train)"
      ],
      "execution_count": 12,
      "outputs": [
        {
          "output_type": "stream",
          "text": [
            "[12004.27989929 25862.48767558  8422.94530542  7332.97390728\n",
            " 12159.99009902 10135.75750249 10135.75750249  8422.94530542\n",
            " 21814.02248251  7332.97390728 17609.8470897   7332.97390728\n",
            "  8422.94530542  8422.94530542 23526.83467958 15274.19409369\n",
            "  8578.65550515  7488.68410701 14495.64309503 21502.60208304\n",
            "  8422.94530542 16987.00629076 12159.99009902 12004.27989929\n",
            " 15274.19409369 14495.64309503 10447.17790195 12315.70029876\n",
            " 10135.75750249 16052.74509236 17609.8470897   7332.97390728\n",
            "  7332.97390728 19945.5000857  21814.02248251 10447.17790195\n",
            " 10447.17790195  7644.39430675 10447.17790195 18855.52868757\n",
            "  7488.68410701  8422.94530542  8578.65550515  7488.68410701\n",
            " 13561.38189663 13717.09209636 12004.27989929  7644.39430675\n",
            "  7332.97390728 14495.64309503 15274.19409369  8578.65550515\n",
            " 10447.17790195 14495.64309503  7644.39430675 16052.74509236\n",
            " 12315.70029876  8578.65550515 18855.52868757 23526.83467958\n",
            " 18855.52868757  8422.94530542  8422.94530542 13872.80229609\n",
            " 12004.27989929 13561.38189663 21502.60208304  7644.39430675\n",
            " 21502.60208304  7644.39430675 16052.74509236 12315.70029876\n",
            " 29755.24266892 10135.75750249 21814.02248251  8578.65550515\n",
            " 16052.74509236 21814.02248251  7332.97390728 10135.75750249\n",
            " 24928.22647718 15274.19409369]\n",
            "[ 8949.     8921.    12290.    45400.    13415.    11845.     8495.\n",
            " 41315.    18150.     7995.     7299.    11048.     6229.     9279.\n",
            " 17950.    16515.     8013.     7603.     6785.     8558.    17669.\n",
            " 22470.     9549.    17859.167 11248.     6695.    12629.    35550.\n",
            "  6989.     9980.    12945.    12170.     7898.     9538.    40960.\n",
            "  8845.     8916.5    9995.     7099.     7689.    18950.    10595.\n",
            " 16900.     7295.    36880.     9233.     5399.     9095.    16503.\n",
            "  5389.    32250.     5151.    15985.     7295.    36000.    34028.\n",
            " 10945.     9989.     8189.     6529.    14399.     8921.    14489.\n",
            " 18150.    15040.     9279.     6377.     7349.    18344.    17199.\n",
            "  5118.     8358.     5348.    11595.     9295.    13860.     6938.\n",
            "  9258.     7957.     7975.    16925.    10295.    17075.     8845.\n",
            " 13645.    35056.    16430.     9988.     8778.    15645.     6649.\n",
            " 10898.    12964.     8499.     9298.     8195.     7129.    13499.\n",
            " 11900.    13200.    13950.    11850.    15690.     7609.     7126.\n",
            "  8916.5    8238.     6918.    11245.    15750.    18280.     5499.\n",
            "  8948.     9960.     7775.    18420.     6795.    10698.     6855.\n",
            " 21485.    15250.    22018.    15998.   ]\n"
          ],
          "name": "stdout"
        }
      ]
    },
    {
      "cell_type": "markdown",
      "metadata": {
        "id": "uoC4LC4MaMDh"
      },
      "source": [
        "#Accuracy of Model Calculation"
      ]
    },
    {
      "cell_type": "code",
      "metadata": {
        "colab": {
          "base_uri": "https://localhost:8080/"
        },
        "id": "Rivz_WxaWdg9",
        "outputId": "754b9788-fc30-4e9c-8c63-bede68614376"
      },
      "source": [
        "#Calculate Accuracy\n",
        "accuracy = model.score(X_test,Y_test)\n",
        "print(accuracy)"
      ],
      "execution_count": 13,
      "outputs": [
        {
          "output_type": "stream",
          "text": [
            "0.7371002369794671\n"
          ],
          "name": "stdout"
        }
      ]
    },
    {
      "cell_type": "markdown",
      "metadata": {
        "id": "2ZX7Q7AyaRjl"
      },
      "source": [
        "#Plotting Regressor Curve"
      ]
    },
    {
      "cell_type": "code",
      "metadata": {
        "colab": {
          "base_uri": "https://localhost:8080/",
          "height": 573
        },
        "id": "xvcho4V1WkIg",
        "outputId": "3101376a-062f-4d74-abfb-e931285b30db"
      },
      "source": [
        "plt.scatter(X_train,Y_train,color='green',marker='*')\n",
        "plt.xlabel('Engine Size')\n",
        "plt.ylabel('Price')\n",
        "plt.title('Engine Size vs. Price (Training Set)')\n",
        "plt.plot(X_train, model.predict(X_train), color='red')\n",
        "plt.show()\n",
        "\n",
        "plt.scatter(X_test,Y_test,color='green',marker='*')\n",
        "plt.xlabel('Engine Size')\n",
        "plt.ylabel('Price')\n",
        "plt.title('Engine Size vs. Price (Test Set)')\n",
        "plt.plot(X_test, model.predict(X_test), color='red')\n",
        "plt.show()"
      ],
      "execution_count": 27,
      "outputs": [
        {
          "output_type": "display_data",
          "data": {
            "image/png": "[encoded data removed]",
            "text/plain": [
              "<Figure size 432x288 with 1 Axes>"
            ]
          },
          "metadata": {
            "tags": [],
            "needs_background": "light"
          }
        },
        {
          "output_type": "display_data",
          "data": {
            "image/png": "[encoded data removed]",
            "text/plain": [
              "<Figure size 432x288 with 1 Axes>"
            ]
          },
          "metadata": {
            "tags": [],
            "needs_background": "light"
          }
        }
      ]
    },
    {
      "cell_type": "markdown",
      "metadata": {
        "id": "skPqyfxYaV1-"
      },
      "source": [
        "# Examining Model on external data"
      ]
    },
    {
      "cell_type": "code",
      "metadata": {
        "colab": {
          "base_uri": "https://localhost:8080/"
        },
        "id": "pC-yWPDFWnaS",
        "outputId": "2a653c84-7275-489d-c07b-79bd1907695c"
      },
      "source": [
        "test_data = np.array([[135]])\n",
        "test_pred = model.predict(test_data)\n",
        "print(test_pred)"
      ],
      "execution_count": 16,
      "outputs": [
        {
          "output_type": "stream",
          "text": [
            "[14339.93289529]\n"
          ],
          "name": "stdout"
        }
      ]
    },
    {
      "cell_type": "markdown",
      "metadata": {
        "id": "WybRj3y2abkK"
      },
      "source": [
        "#Examinign Model on user inputed data"
      ]
    },
    {
      "cell_type": "code",
      "metadata": {
        "colab": {
          "base_uri": "https://localhost:8080/"
        },
        "id": "s6LO6hmvYCQ4",
        "outputId": "32529dc6-0045-49b1-d359-2c81bbb1f306"
      },
      "source": [
        "enginesize = int(input(\"What is the size of your engine?\"))\n",
        "carPrice = model.predict(np.array([[enginesize]])) \n",
        "print('Estimated price of the car with ' + str(enginesize) + 'cc engine size is ' + str(carPrice[0]))\n"
      ],
      "execution_count": 18,
      "outputs": [
        {
          "output_type": "stream",
          "text": [
            "What is the size of your engine?135\n",
            "Estimated price of the car with 135cc engine size is 14339.932895293323\n"
          ],
          "name": "stdout"
        }
      ]
    }
  ]
}