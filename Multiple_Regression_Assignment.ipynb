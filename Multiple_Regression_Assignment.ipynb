{
  "nbformat": 4,
  "nbformat_minor": 0,
  "metadata": {
    "colab": {
      "name": "Multiple Regression Assignment.ipynb",
      "provenance": [],
      "authorship_tag": "ABX9TyMjVj3ip66FpeHp93NEcb/V",
      "include_colab_link": true
    },
    "kernelspec": {
      "name": "python3",
      "display_name": "Python 3"
    },
    "language_info": {
      "name": "python"
    }
  },
  "cells": [
    {
      "cell_type": "markdown",
      "metadata": {
        "id": "view-in-github",
        "colab_type": "text"
      },
      "source": [
        "<a href=\"https://colab.research.google.com/github/Sakalya100/MLDLS2021/blob/main/Multiple_Regression_Assignment.ipynb\" target=\"_parent\"><img src=\"https://colab.research.google.com/assets/colab-badge.svg\" alt=\"Open In Colab\"/></a>"
      ]
    },
    {
      "cell_type": "code",
      "metadata": {
        "id": "rKOnGZOL44Rw"
      },
      "source": [
        "#import Libraries\n",
        "import numpy as np\n",
        "import pandas as pd\n",
        "import matplotlib.pyplot as plt"
      ],
      "execution_count": null,
      "outputs": []
    },
    {
      "cell_type": "code",
      "metadata": {
        "colab": {
          "base_uri": "https://localhost:8080/"
        },
        "id": "OAINdcJA54so",
        "outputId": "16a0568e-208d-47b7-fd99-84b2b593a07c"
      },
      "source": [
        "#import Dataset\n",
        "dataset = pd.read_csv('/content/sample_data/Car_price.csv')\n",
        "print(dataset)"
      ],
      "execution_count": null,
      "outputs": [
        {
          "output_type": "stream",
          "text": [
            "     enginesize  carlength  carwidth  carheight    price\n",
            "0           130      168.8      64.1       48.8  13495.0\n",
            "1           130      168.8      64.1       48.8  16500.0\n",
            "2           152      171.2      65.5       52.4  16500.0\n",
            "3           109      176.6      66.2       54.3  13950.0\n",
            "4           136      176.6      66.4       54.3  17450.0\n",
            "..          ...        ...       ...        ...      ...\n",
            "200         141      188.8      68.9       55.5  16845.0\n",
            "201         141      188.8      68.8       55.5  19045.0\n",
            "202         173      188.8      68.9       55.5  21485.0\n",
            "203         145      188.8      68.9       55.5  22470.0\n",
            "204         141      188.8      68.9       55.5  22625.0\n",
            "\n",
            "[205 rows x 5 columns]\n"
          ],
          "name": "stdout"
        }
      ]
    },
    {
      "cell_type": "code",
      "metadata": {
        "colab": {
          "base_uri": "https://localhost:8080/"
        },
        "id": "qtbpAFxW55eC",
        "outputId": "36516c96-7e09-4d77-a77d-34415fd84056"
      },
      "source": [
        "X = dataset.iloc[:,:-1].values\n",
        "Y = dataset.iloc[:,-1].values\n",
        "\n",
        "print(X)\n",
        "print(Y)"
      ],
      "execution_count": null,
      "outputs": [
        {
          "output_type": "stream",
          "text": [
            "[[130.  168.8  64.1  48.8]\n",
            " [130.  168.8  64.1  48.8]\n",
            " [152.  171.2  65.5  52.4]\n",
            " [109.  176.6  66.2  54.3]\n",
            " [136.  176.6  66.4  54.3]\n",
            " [136.  177.3  66.3  53.1]\n",
            " [136.  192.7  71.4  55.7]\n",
            " [136.  192.7  71.4  55.7]\n",
            " [131.  192.7  71.4  55.9]\n",
            " [131.  178.2  67.9  52. ]\n",
            " [108.  176.8  64.8  54.3]\n",
            " [108.  176.8  64.8  54.3]\n",
            " [164.  176.8  64.8  54.3]\n",
            " [164.  176.8  64.8  54.3]\n",
            " [164.  189.   66.9  55.7]\n",
            " [209.  189.   66.9  55.7]\n",
            " [209.  193.8  67.9  53.7]\n",
            " [209.  197.   70.9  56.3]\n",
            " [ 61.  141.1  60.3  53.2]\n",
            " [ 90.  155.9  63.6  52. ]\n",
            " [ 90.  158.8  63.6  52. ]\n",
            " [ 90.  157.3  63.8  50.8]\n",
            " [ 90.  157.3  63.8  50.8]\n",
            " [ 98.  157.3  63.8  50.8]\n",
            " [ 90.  157.3  63.8  50.6]\n",
            " [ 90.  157.3  63.8  50.6]\n",
            " [ 90.  157.3  63.8  50.6]\n",
            " [ 98.  157.3  63.8  50.6]\n",
            " [122.  174.6  64.6  59.8]\n",
            " [156.  173.2  66.3  50.2]\n",
            " [ 92.  144.6  63.9  50.8]\n",
            " [ 92.  144.6  63.9  50.8]\n",
            " [ 79.  150.   64.   52.6]\n",
            " [ 92.  150.   64.   52.6]\n",
            " [ 92.  150.   64.   52.6]\n",
            " [ 92.  163.4  64.   54.5]\n",
            " [ 92.  157.1  63.9  58.3]\n",
            " [110.  167.5  65.2  53.3]\n",
            " [110.  167.5  65.2  53.3]\n",
            " [110.  175.4  65.2  54.1]\n",
            " [110.  175.4  62.5  54.1]\n",
            " [110.  175.4  65.2  54.1]\n",
            " [110.  169.1  66.   51. ]\n",
            " [111.  170.7  61.8  53.5]\n",
            " [ 90.  155.9  63.6  52. ]\n",
            " [ 90.  155.9  63.6  52. ]\n",
            " [119.  172.6  65.2  51.4]\n",
            " [258.  199.6  69.6  52.8]\n",
            " [258.  199.6  69.6  52.8]\n",
            " [326.  191.7  70.6  47.8]\n",
            " [ 91.  159.1  64.2  54.1]\n",
            " [ 91.  159.1  64.2  54.1]\n",
            " [ 91.  159.1  64.2  54.1]\n",
            " [ 91.  166.8  64.2  54.1]\n",
            " [ 91.  166.8  64.2  54.1]\n",
            " [ 70.  169.   65.7  49.6]\n",
            " [ 70.  169.   65.7  49.6]\n",
            " [ 70.  169.   65.7  49.6]\n",
            " [ 80.  169.   65.7  49.6]\n",
            " [122.  177.8  66.5  53.7]\n",
            " [122.  177.8  66.5  55.5]\n",
            " [122.  177.8  66.5  53.7]\n",
            " [122.  177.8  66.5  55.5]\n",
            " [122.  177.8  66.5  55.5]\n",
            " [122.  177.8  66.5  55.5]\n",
            " [140.  175.   66.1  54.4]\n",
            " [134.  175.   66.1  54.4]\n",
            " [183.  190.9  70.3  56.5]\n",
            " [183.  190.9  70.3  58.7]\n",
            " [183.  187.5  70.3  54.9]\n",
            " [183.  202.6  71.7  56.3]\n",
            " [234.  202.6  71.7  56.5]\n",
            " [234.  180.3  70.5  50.8]\n",
            " [308.  208.1  71.7  56.7]\n",
            " [304.  199.2  72.   55.4]\n",
            " [140.  178.4  68.   54.8]\n",
            " [ 92.  157.3  64.4  50.8]\n",
            " [ 92.  157.3  64.4  50.8]\n",
            " [ 92.  157.3  64.4  50.8]\n",
            " [ 98.  157.3  63.8  50.8]\n",
            " [110.  173.   65.4  49.4]\n",
            " [122.  173.   65.4  49.4]\n",
            " [156.  173.2  66.3  50.2]\n",
            " [156.  173.2  66.3  50.2]\n",
            " [156.  173.2  66.3  50.2]\n",
            " [122.  172.4  65.4  51.6]\n",
            " [122.  172.4  65.4  51.6]\n",
            " [110.  172.4  65.4  51.6]\n",
            " [110.  172.4  65.4  51.6]\n",
            " [ 97.  165.3  63.8  54.5]\n",
            " [103.  165.3  63.8  54.5]\n",
            " [ 97.  165.3  63.8  54.5]\n",
            " [ 97.  165.3  63.8  54.5]\n",
            " [ 97.  170.2  63.8  53.5]\n",
            " [ 97.  165.3  63.8  54.5]\n",
            " [ 97.  165.6  63.8  53.3]\n",
            " [ 97.  165.3  63.8  54.5]\n",
            " [ 97.  170.2  63.8  53.5]\n",
            " [ 97.  162.4  63.8  53.3]\n",
            " [120.  173.4  65.2  54.7]\n",
            " [120.  173.4  65.2  54.7]\n",
            " [181.  181.7  66.5  55.1]\n",
            " [181.  184.6  66.5  56.1]\n",
            " [181.  184.6  66.5  55.1]\n",
            " [181.  170.7  67.9  49.7]\n",
            " [181.  170.7  67.9  49.7]\n",
            " [181.  178.5  67.9  49.7]\n",
            " [120.  186.7  68.4  56.7]\n",
            " [152.  186.7  68.4  56.7]\n",
            " [120.  198.9  68.4  58.7]\n",
            " [152.  198.9  68.4  58.7]\n",
            " [120.  186.7  68.4  56.7]\n",
            " [152.  186.7  68.4  56.7]\n",
            " [120.  198.9  68.4  56.7]\n",
            " [152.  198.9  68.4  58.7]\n",
            " [120.  186.7  68.4  56.7]\n",
            " [152.  186.7  68.4  56.7]\n",
            " [134.  186.7  68.3  56. ]\n",
            " [ 90.  157.3  63.8  50.8]\n",
            " [ 98.  157.3  63.8  50.8]\n",
            " [ 90.  157.3  63.8  50.6]\n",
            " [ 90.  167.3  63.8  50.8]\n",
            " [ 98.  167.3  63.8  50.8]\n",
            " [122.  174.6  64.6  59.8]\n",
            " [156.  173.2  66.3  50.2]\n",
            " [151.  168.9  68.3  50.2]\n",
            " [194.  168.9  65.   51.6]\n",
            " [194.  168.9  65.   51.6]\n",
            " [194.  168.9  65.   51.6]\n",
            " [203.  175.7  72.3  50.5]\n",
            " [132.  181.5  66.5  55.2]\n",
            " [132.  176.8  66.6  50.5]\n",
            " [121.  186.6  66.5  56.1]\n",
            " [121.  186.6  66.5  56.1]\n",
            " [121.  186.6  66.5  56.1]\n",
            " [121.  186.6  66.5  56.1]\n",
            " [121.  186.6  66.5  56.1]\n",
            " [121.  186.6  66.5  56.1]\n",
            " [ 97.  156.9  63.4  53.7]\n",
            " [108.  157.9  63.6  53.7]\n",
            " [108.  157.3  63.8  55.7]\n",
            " [108.  172.   65.4  52.5]\n",
            " [108.  172.   65.4  52.5]\n",
            " [108.  172.   65.4  52.5]\n",
            " [108.  172.   65.4  54.3]\n",
            " [108.  172.   65.4  54.3]\n",
            " [108.  173.5  65.4  53. ]\n",
            " [108.  173.5  65.4  53. ]\n",
            " [108.  173.6  65.4  54.9]\n",
            " [108.  173.6  65.4  54.9]\n",
            " [ 92.  158.7  63.6  54.5]\n",
            " [ 92.  158.7  63.6  54.5]\n",
            " [ 92.  158.7  63.6  54.5]\n",
            " [ 92.  169.7  63.6  59.1]\n",
            " [ 92.  169.7  63.6  59.1]\n",
            " [ 92.  169.7  63.6  59.1]\n",
            " [ 98.  166.3  64.4  53. ]\n",
            " [ 98.  166.3  64.4  52.8]\n",
            " [110.  166.3  64.4  53. ]\n",
            " [110.  166.3  64.4  52.8]\n",
            " [ 98.  166.3  64.4  53. ]\n",
            " [ 98.  166.3  64.4  52.8]\n",
            " [ 98.  166.3  64.4  52.8]\n",
            " [ 98.  168.7  64.   52.6]\n",
            " [ 98.  168.7  64.   52.6]\n",
            " [ 98.  168.7  64.   52.6]\n",
            " [ 98.  168.7  64.   52.6]\n",
            " [146.  176.2  65.6  52. ]\n",
            " [146.  176.2  65.6  52. ]\n",
            " [146.  176.2  65.6  52. ]\n",
            " [146.  176.2  65.6  52. ]\n",
            " [146.  176.2  65.6  52. ]\n",
            " [146.  176.2  65.6  53. ]\n",
            " [122.  175.6  66.5  54.9]\n",
            " [110.  175.6  66.5  54.9]\n",
            " [122.  175.6  66.5  53.9]\n",
            " [122.  175.6  66.5  54.9]\n",
            " [122.  175.6  66.5  53.9]\n",
            " [171.  183.5  67.7  52. ]\n",
            " [171.  183.5  67.7  52. ]\n",
            " [171.  187.8  66.5  54.1]\n",
            " [161.  187.8  66.5  54.1]\n",
            " [ 97.  171.7  65.5  55.7]\n",
            " [109.  171.7  65.5  55.7]\n",
            " [ 97.  171.7  65.5  55.7]\n",
            " [109.  171.7  65.5  55.7]\n",
            " [109.  171.7  65.5  55.7]\n",
            " [ 97.  171.7  65.5  55.7]\n",
            " [109.  171.7  65.5  55.7]\n",
            " [109.  159.3  64.2  55.6]\n",
            " [109.  165.7  64.   51.4]\n",
            " [136.  180.2  66.9  55.1]\n",
            " [ 97.  180.2  66.9  55.1]\n",
            " [109.  183.1  66.9  55.1]\n",
            " [141.  188.8  67.2  56.2]\n",
            " [141.  188.8  67.2  57.5]\n",
            " [141.  188.8  67.2  56.2]\n",
            " [141.  188.8  67.2  57.5]\n",
            " [130.  188.8  67.2  56.2]\n",
            " [130.  188.8  67.2  57.5]\n",
            " [141.  188.8  68.9  55.5]\n",
            " [141.  188.8  68.8  55.5]\n",
            " [173.  188.8  68.9  55.5]\n",
            " [145.  188.8  68.9  55.5]\n",
            " [141.  188.8  68.9  55.5]]\n",
            "[13495.    16500.    16500.    13950.    17450.    15250.    17710.\n",
            " 18920.    23875.    17859.167 16430.    16925.    20970.    21105.\n",
            " 24565.    30760.    41315.    36880.     5151.     6295.     6575.\n",
            "  5572.     6377.     7957.     6229.     6692.     7609.     8558.\n",
            "  8921.    12964.     6479.     6855.     5399.     6529.     7129.\n",
            "  7295.     7295.     7895.     9095.     8845.    10295.    12945.\n",
            " 10345.     6785.     8916.5    8916.5   11048.    32250.    35550.\n",
            " 36000.     5195.     6095.     6795.     6695.     7395.    10945.\n",
            " 11845.    13645.    15645.     8845.     8495.    10595.    10245.\n",
            " 10795.    11245.    18280.    18344.    25552.    28248.    28176.\n",
            " 31600.    34184.    35056.    40960.    45400.    16503.     5389.\n",
            "  6189.     6669.     7689.     9959.     8499.    12629.    14869.\n",
            " 14489.     6989.     8189.     9279.     9279.     5499.     7099.\n",
            "  6649.     6849.     7349.     7299.     7799.     7499.     7999.\n",
            "  8249.     8949.     9549.    13499.    14399.    13499.    17199.\n",
            " 19699.    18399.    11900.    13200.    12440.    13860.    15580.\n",
            " 16900.    16695.    17075.    16630.    17950.    18150.     5572.\n",
            "  7957.     6229.     6692.     7609.     8921.    12764.    22018.\n",
            " 32528.    34028.    37028.    31400.5    9295.     9895.    11850.\n",
            " 12170.    15040.    15510.    18150.    18620.     5118.     7053.\n",
            "  7603.     7126.     7775.     9960.     9233.    11259.     7463.\n",
            " 10198.     8013.    11694.     5348.     6338.     6488.     6918.\n",
            "  7898.     8778.     6938.     7198.     7898.     7788.     7738.\n",
            "  8358.     9258.     8058.     8238.     9298.     9538.     8449.\n",
            "  9639.     9989.    11199.    11549.    17669.     8948.    10698.\n",
            "  9988.    10898.    11248.    16558.    15998.    15690.    15750.\n",
            "  7775.     7975.     7995.     8195.     8495.     9495.     9995.\n",
            " 11595.     9980.    13295.    13845.    12290.    12940.    13415.\n",
            " 15985.    16515.    18420.    18950.    16845.    19045.    21485.\n",
            " 22470.    22625.   ]\n"
          ],
          "name": "stdout"
        }
      ]
    },
    {
      "cell_type": "code",
      "metadata": {
        "colab": {
          "base_uri": "https://localhost:8080/",
          "height": 666
        },
        "id": "sgr0Sv3p569U",
        "outputId": "6ca2a0c2-51a4-4bf4-e6ca-c561d0dfe472"
      },
      "source": [
        "plt.xlabel('Engine Size')\n",
        "plt.ylabel('Price')\n",
        "plt.title('Engine Size vs. Price')\n",
        "plt.scatter(X,Y,color='green',marker=\"*\")\n",
        "#Cannot  plot it because it is not in 2D and matplotlib can visualize graphs upto 2d"
      ],
      "execution_count": null,
      "outputs": [
        {
          "output_type": "error",
          "ename": "ValueError",
          "evalue": "ignored",
          "traceback": [
            "\u001b[0;31m---------------------------------------------------------------------------\u001b[0m",
            "\u001b[0;31mValueError\u001b[0m                                Traceback (most recent call last)",
            "\u001b[0;32m<ipython-input-15-2dbf640e659b>\u001b[0m in \u001b[0;36m<module>\u001b[0;34m()\u001b[0m\n\u001b[1;32m      2\u001b[0m \u001b[0mplt\u001b[0m\u001b[0;34m.\u001b[0m\u001b[0mylabel\u001b[0m\u001b[0;34m(\u001b[0m\u001b[0;34m'Price'\u001b[0m\u001b[0;34m)\u001b[0m\u001b[0;34m\u001b[0m\u001b[0;34m\u001b[0m\u001b[0m\n\u001b[1;32m      3\u001b[0m \u001b[0mplt\u001b[0m\u001b[0;34m.\u001b[0m\u001b[0mtitle\u001b[0m\u001b[0;34m(\u001b[0m\u001b[0;34m'Engine Size vs. Price'\u001b[0m\u001b[0;34m)\u001b[0m\u001b[0;34m\u001b[0m\u001b[0;34m\u001b[0m\u001b[0m\n\u001b[0;32m----> 4\u001b[0;31m \u001b[0mplt\u001b[0m\u001b[0;34m.\u001b[0m\u001b[0mscatter\u001b[0m\u001b[0;34m(\u001b[0m\u001b[0mX\u001b[0m\u001b[0;34m,\u001b[0m\u001b[0mY\u001b[0m\u001b[0;34m,\u001b[0m\u001b[0mcolor\u001b[0m\u001b[0;34m=\u001b[0m\u001b[0;34m'green'\u001b[0m\u001b[0;34m,\u001b[0m\u001b[0mmarker\u001b[0m\u001b[0;34m=\u001b[0m\u001b[0;34m\"*\"\u001b[0m\u001b[0;34m)\u001b[0m\u001b[0;34m\u001b[0m\u001b[0;34m\u001b[0m\u001b[0m\n\u001b[0m\u001b[1;32m      5\u001b[0m \u001b[0;31m#Cannot  plot it because it is not in 2D and matplotlib can visualize graphs upto 2d\u001b[0m\u001b[0;34m\u001b[0m\u001b[0;34m\u001b[0m\u001b[0;34m\u001b[0m\u001b[0m\n",
            "\u001b[0;32m/usr/local/lib/python3.7/dist-packages/matplotlib/pyplot.py\u001b[0m in \u001b[0;36mscatter\u001b[0;34m(x, y, s, c, marker, cmap, norm, vmin, vmax, alpha, linewidths, verts, edgecolors, plotnonfinite, data, **kwargs)\u001b[0m\n\u001b[1;32m   2814\u001b[0m         \u001b[0mverts\u001b[0m\u001b[0;34m=\u001b[0m\u001b[0mverts\u001b[0m\u001b[0;34m,\u001b[0m \u001b[0medgecolors\u001b[0m\u001b[0;34m=\u001b[0m\u001b[0medgecolors\u001b[0m\u001b[0;34m,\u001b[0m\u001b[0;34m\u001b[0m\u001b[0;34m\u001b[0m\u001b[0m\n\u001b[1;32m   2815\u001b[0m         plotnonfinite=plotnonfinite, **({\"data\": data} if data is not\n\u001b[0;32m-> 2816\u001b[0;31m         None else {}), **kwargs)\n\u001b[0m\u001b[1;32m   2817\u001b[0m     \u001b[0msci\u001b[0m\u001b[0;34m(\u001b[0m\u001b[0m__ret\u001b[0m\u001b[0;34m)\u001b[0m\u001b[0;34m\u001b[0m\u001b[0;34m\u001b[0m\u001b[0m\n\u001b[1;32m   2818\u001b[0m     \u001b[0;32mreturn\u001b[0m \u001b[0m__ret\u001b[0m\u001b[0;34m\u001b[0m\u001b[0;34m\u001b[0m\u001b[0m\n",
            "\u001b[0;32m/usr/local/lib/python3.7/dist-packages/matplotlib/__init__.py\u001b[0m in \u001b[0;36minner\u001b[0;34m(ax, data, *args, **kwargs)\u001b[0m\n\u001b[1;32m   1563\u001b[0m     \u001b[0;32mdef\u001b[0m \u001b[0minner\u001b[0m\u001b[0;34m(\u001b[0m\u001b[0max\u001b[0m\u001b[0;34m,\u001b[0m \u001b[0;34m*\u001b[0m\u001b[0margs\u001b[0m\u001b[0;34m,\u001b[0m \u001b[0mdata\u001b[0m\u001b[0;34m=\u001b[0m\u001b[0;32mNone\u001b[0m\u001b[0;34m,\u001b[0m \u001b[0;34m**\u001b[0m\u001b[0mkwargs\u001b[0m\u001b[0;34m)\u001b[0m\u001b[0;34m:\u001b[0m\u001b[0;34m\u001b[0m\u001b[0;34m\u001b[0m\u001b[0m\n\u001b[1;32m   1564\u001b[0m         \u001b[0;32mif\u001b[0m \u001b[0mdata\u001b[0m \u001b[0;32mis\u001b[0m \u001b[0;32mNone\u001b[0m\u001b[0;34m:\u001b[0m\u001b[0;34m\u001b[0m\u001b[0;34m\u001b[0m\u001b[0m\n\u001b[0;32m-> 1565\u001b[0;31m             \u001b[0;32mreturn\u001b[0m \u001b[0mfunc\u001b[0m\u001b[0;34m(\u001b[0m\u001b[0max\u001b[0m\u001b[0;34m,\u001b[0m \u001b[0;34m*\u001b[0m\u001b[0mmap\u001b[0m\u001b[0;34m(\u001b[0m\u001b[0msanitize_sequence\u001b[0m\u001b[0;34m,\u001b[0m \u001b[0margs\u001b[0m\u001b[0;34m)\u001b[0m\u001b[0;34m,\u001b[0m \u001b[0;34m**\u001b[0m\u001b[0mkwargs\u001b[0m\u001b[0;34m)\u001b[0m\u001b[0;34m\u001b[0m\u001b[0;34m\u001b[0m\u001b[0m\n\u001b[0m\u001b[1;32m   1566\u001b[0m \u001b[0;34m\u001b[0m\u001b[0m\n\u001b[1;32m   1567\u001b[0m         \u001b[0mbound\u001b[0m \u001b[0;34m=\u001b[0m \u001b[0mnew_sig\u001b[0m\u001b[0;34m.\u001b[0m\u001b[0mbind\u001b[0m\u001b[0;34m(\u001b[0m\u001b[0max\u001b[0m\u001b[0;34m,\u001b[0m \u001b[0;34m*\u001b[0m\u001b[0margs\u001b[0m\u001b[0;34m,\u001b[0m \u001b[0;34m**\u001b[0m\u001b[0mkwargs\u001b[0m\u001b[0;34m)\u001b[0m\u001b[0;34m\u001b[0m\u001b[0;34m\u001b[0m\u001b[0m\n",
            "\u001b[0;32m/usr/local/lib/python3.7/dist-packages/matplotlib/cbook/deprecation.py\u001b[0m in \u001b[0;36mwrapper\u001b[0;34m(*args, **kwargs)\u001b[0m\n\u001b[1;32m    356\u001b[0m                 \u001b[0;34mf\"%(removal)s.  If any parameter follows {name!r}, they \"\u001b[0m\u001b[0;34m\u001b[0m\u001b[0;34m\u001b[0m\u001b[0m\n\u001b[1;32m    357\u001b[0m                 f\"should be pass as keyword, not positionally.\")\n\u001b[0;32m--> 358\u001b[0;31m         \u001b[0;32mreturn\u001b[0m \u001b[0mfunc\u001b[0m\u001b[0;34m(\u001b[0m\u001b[0;34m*\u001b[0m\u001b[0margs\u001b[0m\u001b[0;34m,\u001b[0m \u001b[0;34m**\u001b[0m\u001b[0mkwargs\u001b[0m\u001b[0;34m)\u001b[0m\u001b[0;34m\u001b[0m\u001b[0;34m\u001b[0m\u001b[0m\n\u001b[0m\u001b[1;32m    359\u001b[0m \u001b[0;34m\u001b[0m\u001b[0m\n\u001b[1;32m    360\u001b[0m     \u001b[0;32mreturn\u001b[0m \u001b[0mwrapper\u001b[0m\u001b[0;34m\u001b[0m\u001b[0;34m\u001b[0m\u001b[0m\n",
            "\u001b[0;32m/usr/local/lib/python3.7/dist-packages/matplotlib/axes/_axes.py\u001b[0m in \u001b[0;36mscatter\u001b[0;34m(self, x, y, s, c, marker, cmap, norm, vmin, vmax, alpha, linewidths, verts, edgecolors, plotnonfinite, **kwargs)\u001b[0m\n\u001b[1;32m   4389\u001b[0m         \u001b[0my\u001b[0m \u001b[0;34m=\u001b[0m \u001b[0mnp\u001b[0m\u001b[0;34m.\u001b[0m\u001b[0mma\u001b[0m\u001b[0;34m.\u001b[0m\u001b[0mravel\u001b[0m\u001b[0;34m(\u001b[0m\u001b[0my\u001b[0m\u001b[0;34m)\u001b[0m\u001b[0;34m\u001b[0m\u001b[0;34m\u001b[0m\u001b[0m\n\u001b[1;32m   4390\u001b[0m         \u001b[0;32mif\u001b[0m \u001b[0mx\u001b[0m\u001b[0;34m.\u001b[0m\u001b[0msize\u001b[0m \u001b[0;34m!=\u001b[0m \u001b[0my\u001b[0m\u001b[0;34m.\u001b[0m\u001b[0msize\u001b[0m\u001b[0;34m:\u001b[0m\u001b[0;34m\u001b[0m\u001b[0;34m\u001b[0m\u001b[0m\n\u001b[0;32m-> 4391\u001b[0;31m             \u001b[0;32mraise\u001b[0m \u001b[0mValueError\u001b[0m\u001b[0;34m(\u001b[0m\u001b[0;34m\"x and y must be the same size\"\u001b[0m\u001b[0;34m)\u001b[0m\u001b[0;34m\u001b[0m\u001b[0;34m\u001b[0m\u001b[0m\n\u001b[0m\u001b[1;32m   4392\u001b[0m \u001b[0;34m\u001b[0m\u001b[0m\n\u001b[1;32m   4393\u001b[0m         \u001b[0;32mif\u001b[0m \u001b[0ms\u001b[0m \u001b[0;32mis\u001b[0m \u001b[0;32mNone\u001b[0m\u001b[0;34m:\u001b[0m\u001b[0;34m\u001b[0m\u001b[0;34m\u001b[0m\u001b[0m\n",
            "\u001b[0;31mValueError\u001b[0m: x and y must be the same size"
          ]
        },
        {
          "output_type": "display_data",
          "data": {
            "image/png": "[encoded data removed]",
            "text/plain": [
              "<Figure size 432x288 with 1 Axes>"
            ]
          },
          "metadata": {
            "tags": [],
            "needs_background": "light"
          }
        }
      ]
    },
    {
      "cell_type": "code",
      "metadata": {
        "colab": {
          "base_uri": "https://localhost:8080/"
        },
        "id": "K_tG0Wiz6KD-",
        "outputId": "4a43ee3e-107d-4e1a-b0b9-e2ba146dad35"
      },
      "source": [
        "#Split the data\n",
        "from sklearn.model_selection import train_test_split\n",
        "X_train, X_test, Y_train, Y_test = train_test_split(X,Y, test_size=0.3)\n",
        "print(X_train.shape, X_test.shape)"
      ],
      "execution_count": null,
      "outputs": [
        {
          "output_type": "stream",
          "text": [
            "(143, 4) (62, 4)\n"
          ],
          "name": "stdout"
        }
      ]
    },
    {
      "cell_type": "code",
      "metadata": {
        "colab": {
          "base_uri": "https://localhost:8080/"
        },
        "id": "tjzKAQmW6O97",
        "outputId": "1fbafdd5-fe2f-4542-af6c-334bc71696a0"
      },
      "source": [
        "#Fitting Simple Linear Regression\n",
        "from sklearn.linear_model import LinearRegression\n",
        "model = LinearRegression()\n",
        "model.fit(X_train, Y_train)\n"
      ],
      "execution_count": null,
      "outputs": [
        {
          "output_type": "execute_result",
          "data": {
            "text/plain": [
              "LinearRegression(copy_X=True, fit_intercept=True, n_jobs=None, normalize=False)"
            ]
          },
          "metadata": {
            "tags": []
          },
          "execution_count": 8
        }
      ]
    },
    {
      "cell_type": "code",
      "metadata": {
        "colab": {
          "base_uri": "https://localhost:8080/"
        },
        "id": "CdUSuwhi6P20",
        "outputId": "b0e22cb5-e0d0-4344-9add-44266b4a03e6"
      },
      "source": [
        "#Predicting the test results\n",
        "Y_pred = model.predict(X_test)\n",
        "print(Y_pred)\n",
        "print(Y_train)"
      ],
      "execution_count": null,
      "outputs": [
        {
          "output_type": "stream",
          "text": [
            "[ 6301.77262111  7294.09513    10642.91469261 16271.22010108\n",
            " 10336.05329098 20474.39790159 15897.38992637 15328.58772294\n",
            " 10642.91469261 15289.29621157 13550.56103747  6733.83634361\n",
            " 18218.86150791 13244.09614787  8207.66749483 12013.48888878\n",
            " 13188.35405321 39742.38202445 13550.56103747 24006.33650121\n",
            " 12297.19422411  6490.72282501  6301.77262111 10671.16313673\n",
            " 12539.63975508 11871.92317241  7956.60406238  8229.13405976\n",
            "  6312.9323055  13295.68687785 30064.88779318 19193.20662588\n",
            " 11805.8193303   6113.91004698  6913.63596109  4886.7988513\n",
            " 19615.33340509 21313.9380767   9164.05094029 26265.46119637\n",
            " 13550.56103747  7268.8192891  15343.24051443 15289.29621157\n",
            " 13295.68687785  8053.75306332 12297.19422411 14575.37837515\n",
            " 11589.24661899  5991.53766582  7036.82186795  7992.3529562\n",
            " 16271.22010108 13244.09614787 19615.33340509 14745.87182019\n",
            " 18741.63144279 18260.20807345 24228.52756026  7298.38862198\n",
            " 15289.29621157 10681.60527518]\n",
            "[22470.     7788.    35550.     7898.    12940.    17859.167 31400.5\n",
            "  5151.    18920.    15250.    18280.    13645.    34028.     8778.\n",
            "  7609.    15040.     5572.    15645.    19699.     6849.    16925.\n",
            "  8949.    13200.     9538.    25552.    12964.    18950.     6229.\n",
            "  8916.5    8358.     7395.    17669.    18150.    11595.    12764.\n",
            "  6529.     8499.     7499.     8921.    13499.    32250.     7463.\n",
            "  6855.    11900.    36880.     8558.    10595.     7689.     7295.\n",
            " 16500.     7975.    16630.     6488.     7999.    12945.     7603.\n",
            " 16500.     7799.     7349.     6229.     8916.5    8845.     9995.\n",
            " 36000.     9279.     7775.     8921.     9549.     6669.    40960.\n",
            "  9279.     7957.     5195.    11259.     8238.    15510.    23875.\n",
            "  9233.    13860.     7995.    11845.     8495.     7053.    41315.\n",
            "  6692.    16845.     6785.    18399.    13499.     8195.    22625.\n",
            " 14489.    10345.     7126.     6575.    16430.     8013.    17950.\n",
            " 19045.     7609.    15690.     5348.    14399.     6695.    17710.\n",
            "  9895.    34184.     5389.    11694.    16558.    24565.     9639.\n",
            "  7198.     7299.    15580.     9989.    12629.    10245.     6295.\n",
            " 18344.     6095.    16503.    13845.     5118.    18620.    10898.\n",
            "  9959.    14869.    30760.     7738.     9495.     8058.     6338.\n",
            " 15985.     5572.     7895.    12440.    21485.     6649.    13415.\n",
            "  7957.    11245.    16515.   ]\n"
          ],
          "name": "stdout"
        }
      ]
    },
    {
      "cell_type": "code",
      "metadata": {
        "colab": {
          "base_uri": "https://localhost:8080/"
        },
        "id": "O4_QY-ww6VaA",
        "outputId": "f4a850e8-0c35-4ffc-e3aa-dd75046de069"
      },
      "source": [
        "#Calculate Accuracy\n",
        "accuracy = model.score(X_test,Y_test)\n",
        "print(accuracy)"
      ],
      "execution_count": null,
      "outputs": [
        {
          "output_type": "stream",
          "text": [
            "0.7719861384789082\n"
          ],
          "name": "stdout"
        }
      ]
    },
    {
      "cell_type": "code",
      "metadata": {
        "colab": {
          "base_uri": "https://localhost:8080/",
          "height": 658
        },
        "id": "x_brXwD_6XM2",
        "outputId": "ccf6f6ef-fb38-4562-c44e-8d1c7ac29ff8"
      },
      "source": [
        "plt.scatter(X_train,Y_train,color='green',marker='*')\n",
        "plt.xlabel('Engine Size')\n",
        "plt.ylabel('Price')\n",
        "plt.title('Engine Size vs. Price (Training Set)')\n",
        "plt.plot(X_train, model.predict(X_train), color='red')\n",
        "plt.show()\n",
        "\n",
        "plt.scatter(X_test,Y_test,color='green',marker='*')\n",
        "plt.xlabel('Engine Size')\n",
        "plt.ylabel('Price')\n",
        "plt.title('Engine Size vs. Price (Test Set)')\n",
        "plt.plot(X_test, model.predict(X_test), color='red')\n",
        "plt.show()\n",
        "\n",
        "#Cannot  plot it because it is not in 2D and matplotlib can visualize graphs upto 2d"
      ],
      "execution_count": null,
      "outputs": [
        {
          "output_type": "error",
          "ename": "ValueError",
          "evalue": "ignored",
          "traceback": [
            "\u001b[0;31m---------------------------------------------------------------------------\u001b[0m",
            "\u001b[0;31mValueError\u001b[0m                                Traceback (most recent call last)",
            "\u001b[0;32m<ipython-input-14-2438cc088f0e>\u001b[0m in \u001b[0;36m<module>\u001b[0;34m()\u001b[0m\n\u001b[0;32m----> 1\u001b[0;31m \u001b[0mplt\u001b[0m\u001b[0;34m.\u001b[0m\u001b[0mscatter\u001b[0m\u001b[0;34m(\u001b[0m\u001b[0mX_train\u001b[0m\u001b[0;34m,\u001b[0m\u001b[0mY_train\u001b[0m\u001b[0;34m,\u001b[0m\u001b[0mcolor\u001b[0m\u001b[0;34m=\u001b[0m\u001b[0;34m'green'\u001b[0m\u001b[0;34m,\u001b[0m\u001b[0mmarker\u001b[0m\u001b[0;34m=\u001b[0m\u001b[0;34m'*'\u001b[0m\u001b[0;34m)\u001b[0m\u001b[0;34m\u001b[0m\u001b[0;34m\u001b[0m\u001b[0m\n\u001b[0m\u001b[1;32m      2\u001b[0m \u001b[0mplt\u001b[0m\u001b[0;34m.\u001b[0m\u001b[0mxlabel\u001b[0m\u001b[0;34m(\u001b[0m\u001b[0;34m'Engine Size'\u001b[0m\u001b[0;34m)\u001b[0m\u001b[0;34m\u001b[0m\u001b[0;34m\u001b[0m\u001b[0m\n\u001b[1;32m      3\u001b[0m \u001b[0mplt\u001b[0m\u001b[0;34m.\u001b[0m\u001b[0mylabel\u001b[0m\u001b[0;34m(\u001b[0m\u001b[0;34m'Price'\u001b[0m\u001b[0;34m)\u001b[0m\u001b[0;34m\u001b[0m\u001b[0;34m\u001b[0m\u001b[0m\n\u001b[1;32m      4\u001b[0m \u001b[0mplt\u001b[0m\u001b[0;34m.\u001b[0m\u001b[0mtitle\u001b[0m\u001b[0;34m(\u001b[0m\u001b[0;34m'Engine Size vs. Price (Training Set)'\u001b[0m\u001b[0;34m)\u001b[0m\u001b[0;34m\u001b[0m\u001b[0;34m\u001b[0m\u001b[0m\n\u001b[1;32m      5\u001b[0m \u001b[0mplt\u001b[0m\u001b[0;34m.\u001b[0m\u001b[0mplot\u001b[0m\u001b[0;34m(\u001b[0m\u001b[0mX_train\u001b[0m\u001b[0;34m,\u001b[0m \u001b[0mmodel\u001b[0m\u001b[0;34m.\u001b[0m\u001b[0mpredict\u001b[0m\u001b[0;34m(\u001b[0m\u001b[0mX_train\u001b[0m\u001b[0;34m)\u001b[0m\u001b[0;34m,\u001b[0m \u001b[0mcolor\u001b[0m\u001b[0;34m=\u001b[0m\u001b[0;34m'red'\u001b[0m\u001b[0;34m)\u001b[0m\u001b[0;34m\u001b[0m\u001b[0;34m\u001b[0m\u001b[0m\n",
            "\u001b[0;32m/usr/local/lib/python3.7/dist-packages/matplotlib/pyplot.py\u001b[0m in \u001b[0;36mscatter\u001b[0;34m(x, y, s, c, marker, cmap, norm, vmin, vmax, alpha, linewidths, verts, edgecolors, plotnonfinite, data, **kwargs)\u001b[0m\n\u001b[1;32m   2814\u001b[0m         \u001b[0mverts\u001b[0m\u001b[0;34m=\u001b[0m\u001b[0mverts\u001b[0m\u001b[0;34m,\u001b[0m \u001b[0medgecolors\u001b[0m\u001b[0;34m=\u001b[0m\u001b[0medgecolors\u001b[0m\u001b[0;34m,\u001b[0m\u001b[0;34m\u001b[0m\u001b[0;34m\u001b[0m\u001b[0m\n\u001b[1;32m   2815\u001b[0m         plotnonfinite=plotnonfinite, **({\"data\": data} if data is not\n\u001b[0;32m-> 2816\u001b[0;31m         None else {}), **kwargs)\n\u001b[0m\u001b[1;32m   2817\u001b[0m     \u001b[0msci\u001b[0m\u001b[0;34m(\u001b[0m\u001b[0m__ret\u001b[0m\u001b[0;34m)\u001b[0m\u001b[0;34m\u001b[0m\u001b[0;34m\u001b[0m\u001b[0m\n\u001b[1;32m   2818\u001b[0m     \u001b[0;32mreturn\u001b[0m \u001b[0m__ret\u001b[0m\u001b[0;34m\u001b[0m\u001b[0;34m\u001b[0m\u001b[0m\n",
            "\u001b[0;32m/usr/local/lib/python3.7/dist-packages/matplotlib/__init__.py\u001b[0m in \u001b[0;36minner\u001b[0;34m(ax, data, *args, **kwargs)\u001b[0m\n\u001b[1;32m   1563\u001b[0m     \u001b[0;32mdef\u001b[0m \u001b[0minner\u001b[0m\u001b[0;34m(\u001b[0m\u001b[0max\u001b[0m\u001b[0;34m,\u001b[0m \u001b[0;34m*\u001b[0m\u001b[0margs\u001b[0m\u001b[0;34m,\u001b[0m \u001b[0mdata\u001b[0m\u001b[0;34m=\u001b[0m\u001b[0;32mNone\u001b[0m\u001b[0;34m,\u001b[0m \u001b[0;34m**\u001b[0m\u001b[0mkwargs\u001b[0m\u001b[0;34m)\u001b[0m\u001b[0;34m:\u001b[0m\u001b[0;34m\u001b[0m\u001b[0;34m\u001b[0m\u001b[0m\n\u001b[1;32m   1564\u001b[0m         \u001b[0;32mif\u001b[0m \u001b[0mdata\u001b[0m \u001b[0;32mis\u001b[0m \u001b[0;32mNone\u001b[0m\u001b[0;34m:\u001b[0m\u001b[0;34m\u001b[0m\u001b[0;34m\u001b[0m\u001b[0m\n\u001b[0;32m-> 1565\u001b[0;31m             \u001b[0;32mreturn\u001b[0m \u001b[0mfunc\u001b[0m\u001b[0;34m(\u001b[0m\u001b[0max\u001b[0m\u001b[0;34m,\u001b[0m \u001b[0;34m*\u001b[0m\u001b[0mmap\u001b[0m\u001b[0;34m(\u001b[0m\u001b[0msanitize_sequence\u001b[0m\u001b[0;34m,\u001b[0m \u001b[0margs\u001b[0m\u001b[0;34m)\u001b[0m\u001b[0;34m,\u001b[0m \u001b[0;34m**\u001b[0m\u001b[0mkwargs\u001b[0m\u001b[0;34m)\u001b[0m\u001b[0;34m\u001b[0m\u001b[0;34m\u001b[0m\u001b[0m\n\u001b[0m\u001b[1;32m   1566\u001b[0m \u001b[0;34m\u001b[0m\u001b[0m\n\u001b[1;32m   1567\u001b[0m         \u001b[0mbound\u001b[0m \u001b[0;34m=\u001b[0m \u001b[0mnew_sig\u001b[0m\u001b[0;34m.\u001b[0m\u001b[0mbind\u001b[0m\u001b[0;34m(\u001b[0m\u001b[0max\u001b[0m\u001b[0;34m,\u001b[0m \u001b[0;34m*\u001b[0m\u001b[0margs\u001b[0m\u001b[0;34m,\u001b[0m \u001b[0;34m**\u001b[0m\u001b[0mkwargs\u001b[0m\u001b[0;34m)\u001b[0m\u001b[0;34m\u001b[0m\u001b[0;34m\u001b[0m\u001b[0m\n",
            "\u001b[0;32m/usr/local/lib/python3.7/dist-packages/matplotlib/cbook/deprecation.py\u001b[0m in \u001b[0;36mwrapper\u001b[0;34m(*args, **kwargs)\u001b[0m\n\u001b[1;32m    356\u001b[0m                 \u001b[0;34mf\"%(removal)s.  If any parameter follows {name!r}, they \"\u001b[0m\u001b[0;34m\u001b[0m\u001b[0;34m\u001b[0m\u001b[0m\n\u001b[1;32m    357\u001b[0m                 f\"should be pass as keyword, not positionally.\")\n\u001b[0;32m--> 358\u001b[0;31m         \u001b[0;32mreturn\u001b[0m \u001b[0mfunc\u001b[0m\u001b[0;34m(\u001b[0m\u001b[0;34m*\u001b[0m\u001b[0margs\u001b[0m\u001b[0;34m,\u001b[0m \u001b[0;34m**\u001b[0m\u001b[0mkwargs\u001b[0m\u001b[0;34m)\u001b[0m\u001b[0;34m\u001b[0m\u001b[0;34m\u001b[0m\u001b[0m\n\u001b[0m\u001b[1;32m    359\u001b[0m \u001b[0;34m\u001b[0m\u001b[0m\n\u001b[1;32m    360\u001b[0m     \u001b[0;32mreturn\u001b[0m \u001b[0mwrapper\u001b[0m\u001b[0;34m\u001b[0m\u001b[0;34m\u001b[0m\u001b[0m\n",
            "\u001b[0;32m/usr/local/lib/python3.7/dist-packages/matplotlib/axes/_axes.py\u001b[0m in \u001b[0;36mscatter\u001b[0;34m(self, x, y, s, c, marker, cmap, norm, vmin, vmax, alpha, linewidths, verts, edgecolors, plotnonfinite, **kwargs)\u001b[0m\n\u001b[1;32m   4389\u001b[0m         \u001b[0my\u001b[0m \u001b[0;34m=\u001b[0m \u001b[0mnp\u001b[0m\u001b[0;34m.\u001b[0m\u001b[0mma\u001b[0m\u001b[0;34m.\u001b[0m\u001b[0mravel\u001b[0m\u001b[0;34m(\u001b[0m\u001b[0my\u001b[0m\u001b[0;34m)\u001b[0m\u001b[0;34m\u001b[0m\u001b[0;34m\u001b[0m\u001b[0m\n\u001b[1;32m   4390\u001b[0m         \u001b[0;32mif\u001b[0m \u001b[0mx\u001b[0m\u001b[0;34m.\u001b[0m\u001b[0msize\u001b[0m \u001b[0;34m!=\u001b[0m \u001b[0my\u001b[0m\u001b[0;34m.\u001b[0m\u001b[0msize\u001b[0m\u001b[0;34m:\u001b[0m\u001b[0;34m\u001b[0m\u001b[0;34m\u001b[0m\u001b[0m\n\u001b[0;32m-> 4391\u001b[0;31m             \u001b[0;32mraise\u001b[0m \u001b[0mValueError\u001b[0m\u001b[0;34m(\u001b[0m\u001b[0;34m\"x and y must be the same size\"\u001b[0m\u001b[0;34m)\u001b[0m\u001b[0;34m\u001b[0m\u001b[0;34m\u001b[0m\u001b[0m\n\u001b[0m\u001b[1;32m   4392\u001b[0m \u001b[0;34m\u001b[0m\u001b[0m\n\u001b[1;32m   4393\u001b[0m         \u001b[0;32mif\u001b[0m \u001b[0ms\u001b[0m \u001b[0;32mis\u001b[0m \u001b[0;32mNone\u001b[0m\u001b[0;34m:\u001b[0m\u001b[0;34m\u001b[0m\u001b[0;34m\u001b[0m\u001b[0m\n",
            "\u001b[0;31mValueError\u001b[0m: x and y must be the same size"
          ]
        },
        {
          "output_type": "display_data",
          "data": {
            "image/png": "[encoded data removed]",
            "text/plain": [
              "<Figure size 432x288 with 1 Axes>"
            ]
          },
          "metadata": {
            "tags": [],
            "needs_background": "light"
          }
        }
      ]
    },
    {
      "cell_type": "code",
      "metadata": {
        "colab": {
          "base_uri": "https://localhost:8080/"
        },
        "id": "n4_ddTU36dqu",
        "outputId": "95dc4808-5d0c-4df0-cf24-a790b5bbc0cd"
      },
      "source": [
        "test_data = np.array([[135,165,66,49]])\n",
        "test_pred = model.predict(test_data)\n",
        "print(test_pred)"
      ],
      "execution_count": null,
      "outputs": [
        {
          "output_type": "stream",
          "text": [
            "[14182.2468888]\n"
          ],
          "name": "stdout"
        }
      ]
    },
    {
      "cell_type": "code",
      "metadata": {
        "colab": {
          "base_uri": "https://localhost:8080/"
        },
        "id": "pCu8Zdxh6fsw",
        "outputId": "8a445eb8-14af-4266-dede-caffcf03eac2"
      },
      "source": [
        "enginesize = int(input(\"What is the size of your engine?\"))\n",
        "carl = int(input(\"What is the lenght of car?\"))\n",
        "carw = int(input(\"What is the width of your car?\"))\n",
        "carh = int(input(\"What is the height of your car?\"))\n",
        "carPrice = model.predict(np.array([[enginesize,carl,carw,carh]])) \n",
        "print('Estimated price of the car with ' + str(enginesize) + 'cc engine size,' +str(carl)+' cm car length, '+ str(carw)+' cm car width and '\n",
        "+ str(carh)+' cm car height is '  + str(carPrice[0]))\n"
      ],
      "execution_count": null,
      "outputs": [
        {
          "output_type": "stream",
          "text": [
            "What is the size of your engine?135\n",
            "What is the lenght of car?165\n",
            "What is the width of your car?80\n",
            "What is the height of your car?50\n",
            "Estimated price of the car with 135cc engine size,165 cm car length, 80 cm car width and 50 cm car height is 27700.814421958697\n"
          ],
          "name": "stdout"
        }
      ]
    }
  ]
}